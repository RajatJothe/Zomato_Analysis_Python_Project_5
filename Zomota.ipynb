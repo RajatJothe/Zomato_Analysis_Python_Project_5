{
 "cells": [
  {
   "cell_type": "code",
   "execution_count": 269,
   "id": "f3bccd92",
   "metadata": {},
   "outputs": [],
   "source": [
    "#import necessary libraries\n",
    "import pandas as pd\n",
    "import numpy as np\n",
    "import matplotlib.pyplot as plt\n",
    "import seaborn as sns"
   ]
  },
  {
   "cell_type": "code",
   "execution_count": 270,
   "id": "09bc70a0",
   "metadata": {},
   "outputs": [
    {
     "data": {
      "application/vnd.microsoft.datawrangler.viewer.v0+json": {
       "columns": [
        {
         "name": "index",
         "rawType": "int64",
         "type": "integer"
        },
        {
         "name": "name",
         "rawType": "object",
         "type": "string"
        },
        {
         "name": "online_order",
         "rawType": "object",
         "type": "string"
        },
        {
         "name": "book_table",
         "rawType": "object",
         "type": "string"
        },
        {
         "name": "rate",
         "rawType": "object",
         "type": "string"
        },
        {
         "name": "votes",
         "rawType": "int64",
         "type": "integer"
        },
        {
         "name": "approx_cost(for two people)",
         "rawType": "int64",
         "type": "integer"
        },
        {
         "name": "listed_in(type)",
         "rawType": "object",
         "type": "string"
        }
       ],
       "ref": "7989ee80-179d-46dc-8271-fa32a8397926",
       "rows": [
        [
         "0",
         "Jalsa",
         "Yes",
         "Yes",
         "4.1/5",
         "775",
         "800",
         "Buffet"
        ],
        [
         "1",
         "Spice Elephant",
         "Yes",
         "No",
         "4.1/5",
         "787",
         "800",
         "Buffet"
        ],
        [
         "2",
         "San Churro Cafe",
         "Yes",
         "No",
         "3.8/5",
         "918",
         "800",
         "Buffet"
        ],
        [
         "3",
         "Addhuri Udupi Bhojana",
         "No",
         "No",
         "3.7/5",
         "88",
         "300",
         "Buffet"
        ],
        [
         "4",
         "Grand Village",
         "No",
         "No",
         "3.8/5",
         "166",
         "600",
         "Buffet"
        ],
        [
         "5",
         "Timepass Dinner",
         "Yes",
         "No",
         "3.8/5",
         "286",
         "600",
         "Buffet"
        ],
        [
         "6",
         "Rosewood International Hotel - Bar & Restaurant",
         "No",
         "No",
         "3.6/5",
         "8",
         "800",
         "Buffet"
        ],
        [
         "7",
         "Onesta",
         "Yes",
         "Yes",
         "4.6/5",
         "2556",
         "600",
         "Cafes"
        ],
        [
         "8",
         "Penthouse Cafe",
         "Yes",
         "No",
         "4.0/5",
         "324",
         "700",
         "other"
        ],
        [
         "9",
         "Smacznego",
         "Yes",
         "No",
         "4.2/5",
         "504",
         "550",
         "Cafes"
        ],
        [
         "10",
         "Village Café",
         "Yes",
         "No",
         "4.1/5",
         "402",
         "500",
         "Cafes"
        ],
        [
         "11",
         "Cafe Shuffle",
         "Yes",
         "Yes",
         "4.2/5",
         "150",
         "600",
         "Cafes"
        ],
        [
         "12",
         "The Coffee Shack",
         "Yes",
         "Yes",
         "4.2/5",
         "164",
         "500",
         "Cafes"
        ],
        [
         "13",
         "Caf-Eleven",
         "No",
         "No",
         "4.0/5",
         "424",
         "450",
         "Cafes"
        ],
        [
         "14",
         "San Churro Cafe",
         "Yes",
         "No",
         "3.8/5",
         "918",
         "800",
         "Cafes"
        ],
        [
         "15",
         "Cafe Vivacity",
         "Yes",
         "No",
         "3.8/5",
         "90",
         "650",
         "Cafes"
        ],
        [
         "16",
         "Catch-up-ino",
         "Yes",
         "No",
         "3.9/5",
         "133",
         "800",
         "Cafes"
        ],
        [
         "17",
         "Kirthi's Biryani",
         "Yes",
         "No",
         "3.8/5",
         "144",
         "700",
         "Cafes"
        ],
        [
         "18",
         "T3H Cafe",
         "No",
         "No",
         "3.9/5",
         "93",
         "300",
         "Cafes"
        ],
        [
         "19",
         "360 Atoms Restaurant And Cafe",
         "Yes",
         "No",
         "3.1/5",
         "13",
         "400",
         "Cafes"
        ],
        [
         "20",
         "The Vintage Cafe",
         "Yes",
         "No",
         "3.0/5",
         "62",
         "400",
         "Cafes"
        ],
        [
         "21",
         "Woodee Pizza",
         "Yes",
         "No",
         "3.7/5",
         "180",
         "500",
         "Cafes"
        ],
        [
         "22",
         "Cafe Coffee Day",
         "No",
         "No",
         "3.6/5",
         "28",
         "900",
         "Cafes"
        ],
        [
         "23",
         "My Tea House",
         "Yes",
         "No",
         "3.6/5",
         "62",
         "600",
         "Cafes"
        ],
        [
         "24",
         "Hide Out Cafe",
         "No",
         "No",
         "3.7/5",
         "31",
         "300",
         "Cafes"
        ],
        [
         "25",
         "CAFE NOVA",
         "No",
         "No",
         "3.2/5",
         "11",
         "600",
         "Cafes"
        ],
        [
         "26",
         "Coffee Tindi",
         "Yes",
         "No",
         "3.8/5",
         "75",
         "200",
         "Cafes"
        ],
        [
         "27",
         "Sea Green Cafe",
         "No",
         "No",
         "3.3/5",
         "4",
         "500",
         "Cafes"
        ],
        [
         "28",
         "Cuppa",
         "No",
         "No",
         "3.3/5",
         "23",
         "550",
         "Cafes"
        ],
        [
         "29",
         "Srinathji's Cafe",
         "No",
         "No",
         "3.8/5",
         "148",
         "550",
         "Cafes"
        ],
        [
         "30",
         "Redberrys",
         "Yes",
         "No",
         "4.0/5",
         "219",
         "600",
         "Cafes"
        ],
        [
         "31",
         "Foodiction",
         "Yes",
         "No",
         "2.8/5",
         "506",
         "500",
         "other"
        ],
        [
         "32",
         "Sweet Truth",
         "Yes",
         "No",
         "3.9/5",
         "35",
         "500",
         "Dining"
        ],
        [
         "33",
         "Ovenstory Pizza",
         "Yes",
         "No",
         "3.9/5",
         "172",
         "750",
         "Dining"
        ],
        [
         "34",
         "Faasos",
         "Yes",
         "No",
         "4.2/5",
         "415",
         "500",
         "other"
        ],
        [
         "35",
         "Behrouz Biryani",
         "Yes",
         "No",
         "3.9/5",
         "230",
         "650",
         "Dining"
        ],
        [
         "36",
         "Fast And Fresh",
         "Yes",
         "No",
         "2.8/5",
         "91",
         "400",
         "Dining"
        ],
        [
         "37",
         "Szechuan Dragon",
         "Yes",
         "No",
         "4.2/5",
         "1647",
         "600",
         "Dining"
        ],
        [
         "38",
         "Empire Restaurant",
         "Yes",
         "No",
         "4.4/5",
         "4884",
         "750",
         "other"
        ],
        [
         "39",
         "Maruthi Davangere Benne Dosa",
         "Yes",
         "No",
         "4.0/5",
         "17",
         "150",
         "Dining"
        ],
        [
         "40",
         "Chaatimes",
         "Yes",
         "No",
         "3.8/5",
         "133",
         "200",
         "Dining"
        ],
        [
         "41",
         "Havyaka Mess",
         "No",
         "No",
         "3.9/5",
         "28",
         "300",
         "Dining"
        ],
        [
         "42",
         "McDonald's",
         "Yes",
         "No",
         "3.9/5",
         "286",
         "500",
         "Dining"
        ],
        [
         "43",
         "Domino's Pizza",
         "Yes",
         "No",
         "3.9/5",
         "540",
         "800",
         "Dining"
        ],
        [
         "44",
         "Onesta",
         "Yes",
         "Yes",
         "4.6/5",
         "2556",
         "600",
         "other"
        ],
        [
         "45",
         "Hotboxit",
         "No",
         "No",
         "3.8/5",
         "36",
         "400",
         "Dining"
        ],
        [
         "46",
         "Kitchen Garden",
         "Yes",
         "No",
         "3.6/5",
         "244",
         "300",
         "Dining"
        ],
        [
         "47",
         "Recipe",
         "Yes",
         "No",
         "4.0/5",
         "804",
         "450",
         "Dining"
        ],
        [
         "48",
         "Beijing Bites",
         "Yes",
         "No",
         "3.7/5",
         "679",
         "850",
         "Dining"
        ],
        [
         "49",
         "Tasty Bytes",
         "Yes",
         "No",
         "3.1/5",
         "245",
         "300",
         "Dining"
        ]
       ],
       "shape": {
        "columns": 7,
        "rows": 148
       }
      },
      "text/html": [
       "<div>\n",
       "<style scoped>\n",
       "    .dataframe tbody tr th:only-of-type {\n",
       "        vertical-align: middle;\n",
       "    }\n",
       "\n",
       "    .dataframe tbody tr th {\n",
       "        vertical-align: top;\n",
       "    }\n",
       "\n",
       "    .dataframe thead th {\n",
       "        text-align: right;\n",
       "    }\n",
       "</style>\n",
       "<table border=\"1\" class=\"dataframe\">\n",
       "  <thead>\n",
       "    <tr style=\"text-align: right;\">\n",
       "      <th></th>\n",
       "      <th>name</th>\n",
       "      <th>online_order</th>\n",
       "      <th>book_table</th>\n",
       "      <th>rate</th>\n",
       "      <th>votes</th>\n",
       "      <th>approx_cost(for two people)</th>\n",
       "      <th>listed_in(type)</th>\n",
       "    </tr>\n",
       "  </thead>\n",
       "  <tbody>\n",
       "    <tr>\n",
       "      <th>0</th>\n",
       "      <td>Jalsa</td>\n",
       "      <td>Yes</td>\n",
       "      <td>Yes</td>\n",
       "      <td>4.1/5</td>\n",
       "      <td>775</td>\n",
       "      <td>800</td>\n",
       "      <td>Buffet</td>\n",
       "    </tr>\n",
       "    <tr>\n",
       "      <th>1</th>\n",
       "      <td>Spice Elephant</td>\n",
       "      <td>Yes</td>\n",
       "      <td>No</td>\n",
       "      <td>4.1/5</td>\n",
       "      <td>787</td>\n",
       "      <td>800</td>\n",
       "      <td>Buffet</td>\n",
       "    </tr>\n",
       "    <tr>\n",
       "      <th>2</th>\n",
       "      <td>San Churro Cafe</td>\n",
       "      <td>Yes</td>\n",
       "      <td>No</td>\n",
       "      <td>3.8/5</td>\n",
       "      <td>918</td>\n",
       "      <td>800</td>\n",
       "      <td>Buffet</td>\n",
       "    </tr>\n",
       "    <tr>\n",
       "      <th>3</th>\n",
       "      <td>Addhuri Udupi Bhojana</td>\n",
       "      <td>No</td>\n",
       "      <td>No</td>\n",
       "      <td>3.7/5</td>\n",
       "      <td>88</td>\n",
       "      <td>300</td>\n",
       "      <td>Buffet</td>\n",
       "    </tr>\n",
       "    <tr>\n",
       "      <th>4</th>\n",
       "      <td>Grand Village</td>\n",
       "      <td>No</td>\n",
       "      <td>No</td>\n",
       "      <td>3.8/5</td>\n",
       "      <td>166</td>\n",
       "      <td>600</td>\n",
       "      <td>Buffet</td>\n",
       "    </tr>\n",
       "    <tr>\n",
       "      <th>...</th>\n",
       "      <td>...</td>\n",
       "      <td>...</td>\n",
       "      <td>...</td>\n",
       "      <td>...</td>\n",
       "      <td>...</td>\n",
       "      <td>...</td>\n",
       "      <td>...</td>\n",
       "    </tr>\n",
       "    <tr>\n",
       "      <th>143</th>\n",
       "      <td>Melting Melodies</td>\n",
       "      <td>No</td>\n",
       "      <td>No</td>\n",
       "      <td>3.3/5</td>\n",
       "      <td>0</td>\n",
       "      <td>100</td>\n",
       "      <td>Dining</td>\n",
       "    </tr>\n",
       "    <tr>\n",
       "      <th>144</th>\n",
       "      <td>New Indraprasta</td>\n",
       "      <td>No</td>\n",
       "      <td>No</td>\n",
       "      <td>3.3/5</td>\n",
       "      <td>0</td>\n",
       "      <td>150</td>\n",
       "      <td>Dining</td>\n",
       "    </tr>\n",
       "    <tr>\n",
       "      <th>145</th>\n",
       "      <td>Anna Kuteera</td>\n",
       "      <td>Yes</td>\n",
       "      <td>No</td>\n",
       "      <td>4.0/5</td>\n",
       "      <td>771</td>\n",
       "      <td>450</td>\n",
       "      <td>Dining</td>\n",
       "    </tr>\n",
       "    <tr>\n",
       "      <th>146</th>\n",
       "      <td>Darbar</td>\n",
       "      <td>No</td>\n",
       "      <td>No</td>\n",
       "      <td>3.0/5</td>\n",
       "      <td>98</td>\n",
       "      <td>800</td>\n",
       "      <td>Dining</td>\n",
       "    </tr>\n",
       "    <tr>\n",
       "      <th>147</th>\n",
       "      <td>Vijayalakshmi</td>\n",
       "      <td>Yes</td>\n",
       "      <td>No</td>\n",
       "      <td>3.9/5</td>\n",
       "      <td>47</td>\n",
       "      <td>200</td>\n",
       "      <td>Dining</td>\n",
       "    </tr>\n",
       "  </tbody>\n",
       "</table>\n",
       "<p>148 rows × 7 columns</p>\n",
       "</div>"
      ],
      "text/plain": [
       "                      name online_order book_table   rate  votes  \\\n",
       "0                    Jalsa          Yes        Yes  4.1/5    775   \n",
       "1           Spice Elephant          Yes         No  4.1/5    787   \n",
       "2          San Churro Cafe          Yes         No  3.8/5    918   \n",
       "3    Addhuri Udupi Bhojana           No         No  3.7/5     88   \n",
       "4            Grand Village           No         No  3.8/5    166   \n",
       "..                     ...          ...        ...    ...    ...   \n",
       "143       Melting Melodies           No         No  3.3/5      0   \n",
       "144        New Indraprasta           No         No  3.3/5      0   \n",
       "145           Anna Kuteera          Yes         No  4.0/5    771   \n",
       "146                 Darbar           No         No  3.0/5     98   \n",
       "147          Vijayalakshmi          Yes         No  3.9/5     47   \n",
       "\n",
       "     approx_cost(for two people) listed_in(type)  \n",
       "0                            800          Buffet  \n",
       "1                            800          Buffet  \n",
       "2                            800          Buffet  \n",
       "3                            300          Buffet  \n",
       "4                            600          Buffet  \n",
       "..                           ...             ...  \n",
       "143                          100          Dining  \n",
       "144                          150          Dining  \n",
       "145                          450          Dining  \n",
       "146                          800          Dining  \n",
       "147                          200          Dining  \n",
       "\n",
       "[148 rows x 7 columns]"
      ]
     },
     "execution_count": 270,
     "metadata": {},
     "output_type": "execute_result"
    }
   ],
   "source": [
    "# Load the dataset\n",
    "df = pd.read_csv(\"Zomato data .csv\")\n",
    "df"
   ]
  },
  {
   "cell_type": "code",
   "execution_count": 271,
   "id": "d8c5ae55",
   "metadata": {},
   "outputs": [
    {
     "data": {
      "text/plain": [
       "Index(['name', 'online_order', 'book_table', 'rate', 'votes',\n",
       "       'approx_cost(for two people)', 'listed_in(type)'],\n",
       "      dtype='object')"
      ]
     },
     "execution_count": 271,
     "metadata": {},
     "output_type": "execute_result"
    }
   ],
   "source": [
    "df.columns"
   ]
  },
  {
   "cell_type": "code",
   "execution_count": 272,
   "id": "22e8318b",
   "metadata": {},
   "outputs": [
    {
     "name": "stdout",
     "output_type": "stream",
     "text": [
      "<class 'pandas.core.frame.DataFrame'>\n",
      "RangeIndex: 148 entries, 0 to 147\n",
      "Data columns (total 7 columns):\n",
      " #   Column                       Non-Null Count  Dtype \n",
      "---  ------                       --------------  ----- \n",
      " 0   name                         148 non-null    object\n",
      " 1   online_order                 148 non-null    object\n",
      " 2   book_table                   148 non-null    object\n",
      " 3   rate                         148 non-null    object\n",
      " 4   votes                        148 non-null    int64 \n",
      " 5   approx_cost(for two people)  148 non-null    int64 \n",
      " 6   listed_in(type)              148 non-null    object\n",
      "dtypes: int64(2), object(5)\n",
      "memory usage: 8.2+ KB\n"
     ]
    }
   ],
   "source": [
    "df.info()   #there is not null value in the dataset but there data type of 1 columns is not correct."
   ]
  },
  {
   "cell_type": "code",
   "execution_count": 273,
   "id": "18acb411",
   "metadata": {},
   "outputs": [],
   "source": [
    "#convert 'rate' column to numeric. and change the data type to float\n",
    "df['rate'] = df['rate'].str.replace('/5','').astype(float)"
   ]
  },
  {
   "cell_type": "code",
   "execution_count": 274,
   "id": "28472392",
   "metadata": {},
   "outputs": [
    {
     "data": {
      "application/vnd.microsoft.datawrangler.viewer.v0+json": {
       "columns": [
        {
         "name": "index",
         "rawType": "int64",
         "type": "integer"
        },
        {
         "name": "name",
         "rawType": "object",
         "type": "string"
        },
        {
         "name": "online_order",
         "rawType": "object",
         "type": "string"
        },
        {
         "name": "book_table",
         "rawType": "object",
         "type": "string"
        },
        {
         "name": "rate",
         "rawType": "float64",
         "type": "float"
        },
        {
         "name": "votes",
         "rawType": "int64",
         "type": "integer"
        },
        {
         "name": "approx_cost(for two people)",
         "rawType": "int64",
         "type": "integer"
        },
        {
         "name": "listed_in(type)",
         "rawType": "object",
         "type": "string"
        }
       ],
       "ref": "6e77e65b-823d-40c4-8602-ee711ad32402",
       "rows": [
        [
         "0",
         "Jalsa",
         "Yes",
         "Yes",
         "4.1",
         "775",
         "800",
         "Buffet"
        ],
        [
         "1",
         "Spice Elephant",
         "Yes",
         "No",
         "4.1",
         "787",
         "800",
         "Buffet"
        ],
        [
         "2",
         "San Churro Cafe",
         "Yes",
         "No",
         "3.8",
         "918",
         "800",
         "Buffet"
        ],
        [
         "3",
         "Addhuri Udupi Bhojana",
         "No",
         "No",
         "3.7",
         "88",
         "300",
         "Buffet"
        ],
        [
         "4",
         "Grand Village",
         "No",
         "No",
         "3.8",
         "166",
         "600",
         "Buffet"
        ],
        [
         "5",
         "Timepass Dinner",
         "Yes",
         "No",
         "3.8",
         "286",
         "600",
         "Buffet"
        ],
        [
         "6",
         "Rosewood International Hotel - Bar & Restaurant",
         "No",
         "No",
         "3.6",
         "8",
         "800",
         "Buffet"
        ],
        [
         "7",
         "Onesta",
         "Yes",
         "Yes",
         "4.6",
         "2556",
         "600",
         "Cafes"
        ],
        [
         "8",
         "Penthouse Cafe",
         "Yes",
         "No",
         "4.0",
         "324",
         "700",
         "other"
        ],
        [
         "9",
         "Smacznego",
         "Yes",
         "No",
         "4.2",
         "504",
         "550",
         "Cafes"
        ],
        [
         "10",
         "Village Café",
         "Yes",
         "No",
         "4.1",
         "402",
         "500",
         "Cafes"
        ],
        [
         "11",
         "Cafe Shuffle",
         "Yes",
         "Yes",
         "4.2",
         "150",
         "600",
         "Cafes"
        ],
        [
         "12",
         "The Coffee Shack",
         "Yes",
         "Yes",
         "4.2",
         "164",
         "500",
         "Cafes"
        ],
        [
         "13",
         "Caf-Eleven",
         "No",
         "No",
         "4.0",
         "424",
         "450",
         "Cafes"
        ],
        [
         "14",
         "San Churro Cafe",
         "Yes",
         "No",
         "3.8",
         "918",
         "800",
         "Cafes"
        ],
        [
         "15",
         "Cafe Vivacity",
         "Yes",
         "No",
         "3.8",
         "90",
         "650",
         "Cafes"
        ],
        [
         "16",
         "Catch-up-ino",
         "Yes",
         "No",
         "3.9",
         "133",
         "800",
         "Cafes"
        ],
        [
         "17",
         "Kirthi's Biryani",
         "Yes",
         "No",
         "3.8",
         "144",
         "700",
         "Cafes"
        ],
        [
         "18",
         "T3H Cafe",
         "No",
         "No",
         "3.9",
         "93",
         "300",
         "Cafes"
        ],
        [
         "19",
         "360 Atoms Restaurant And Cafe",
         "Yes",
         "No",
         "3.1",
         "13",
         "400",
         "Cafes"
        ],
        [
         "20",
         "The Vintage Cafe",
         "Yes",
         "No",
         "3.0",
         "62",
         "400",
         "Cafes"
        ],
        [
         "21",
         "Woodee Pizza",
         "Yes",
         "No",
         "3.7",
         "180",
         "500",
         "Cafes"
        ],
        [
         "22",
         "Cafe Coffee Day",
         "No",
         "No",
         "3.6",
         "28",
         "900",
         "Cafes"
        ],
        [
         "23",
         "My Tea House",
         "Yes",
         "No",
         "3.6",
         "62",
         "600",
         "Cafes"
        ],
        [
         "24",
         "Hide Out Cafe",
         "No",
         "No",
         "3.7",
         "31",
         "300",
         "Cafes"
        ],
        [
         "25",
         "CAFE NOVA",
         "No",
         "No",
         "3.2",
         "11",
         "600",
         "Cafes"
        ],
        [
         "26",
         "Coffee Tindi",
         "Yes",
         "No",
         "3.8",
         "75",
         "200",
         "Cafes"
        ],
        [
         "27",
         "Sea Green Cafe",
         "No",
         "No",
         "3.3",
         "4",
         "500",
         "Cafes"
        ],
        [
         "28",
         "Cuppa",
         "No",
         "No",
         "3.3",
         "23",
         "550",
         "Cafes"
        ],
        [
         "29",
         "Srinathji's Cafe",
         "No",
         "No",
         "3.8",
         "148",
         "550",
         "Cafes"
        ],
        [
         "30",
         "Redberrys",
         "Yes",
         "No",
         "4.0",
         "219",
         "600",
         "Cafes"
        ],
        [
         "31",
         "Foodiction",
         "Yes",
         "No",
         "2.8",
         "506",
         "500",
         "other"
        ],
        [
         "32",
         "Sweet Truth",
         "Yes",
         "No",
         "3.9",
         "35",
         "500",
         "Dining"
        ],
        [
         "33",
         "Ovenstory Pizza",
         "Yes",
         "No",
         "3.9",
         "172",
         "750",
         "Dining"
        ],
        [
         "34",
         "Faasos",
         "Yes",
         "No",
         "4.2",
         "415",
         "500",
         "other"
        ],
        [
         "35",
         "Behrouz Biryani",
         "Yes",
         "No",
         "3.9",
         "230",
         "650",
         "Dining"
        ],
        [
         "36",
         "Fast And Fresh",
         "Yes",
         "No",
         "2.8",
         "91",
         "400",
         "Dining"
        ],
        [
         "37",
         "Szechuan Dragon",
         "Yes",
         "No",
         "4.2",
         "1647",
         "600",
         "Dining"
        ],
        [
         "38",
         "Empire Restaurant",
         "Yes",
         "No",
         "4.4",
         "4884",
         "750",
         "other"
        ],
        [
         "39",
         "Maruthi Davangere Benne Dosa",
         "Yes",
         "No",
         "4.0",
         "17",
         "150",
         "Dining"
        ],
        [
         "40",
         "Chaatimes",
         "Yes",
         "No",
         "3.8",
         "133",
         "200",
         "Dining"
        ],
        [
         "41",
         "Havyaka Mess",
         "No",
         "No",
         "3.9",
         "28",
         "300",
         "Dining"
        ],
        [
         "42",
         "McDonald's",
         "Yes",
         "No",
         "3.9",
         "286",
         "500",
         "Dining"
        ],
        [
         "43",
         "Domino's Pizza",
         "Yes",
         "No",
         "3.9",
         "540",
         "800",
         "Dining"
        ],
        [
         "44",
         "Onesta",
         "Yes",
         "Yes",
         "4.6",
         "2556",
         "600",
         "other"
        ],
        [
         "45",
         "Hotboxit",
         "No",
         "No",
         "3.8",
         "36",
         "400",
         "Dining"
        ],
        [
         "46",
         "Kitchen Garden",
         "Yes",
         "No",
         "3.6",
         "244",
         "300",
         "Dining"
        ],
        [
         "47",
         "Recipe",
         "Yes",
         "No",
         "4.0",
         "804",
         "450",
         "Dining"
        ],
        [
         "48",
         "Beijing Bites",
         "Yes",
         "No",
         "3.7",
         "679",
         "850",
         "Dining"
        ],
        [
         "49",
         "Tasty Bytes",
         "Yes",
         "No",
         "3.1",
         "245",
         "300",
         "Dining"
        ]
       ],
       "shape": {
        "columns": 7,
        "rows": 148
       }
      },
      "text/html": [
       "<div>\n",
       "<style scoped>\n",
       "    .dataframe tbody tr th:only-of-type {\n",
       "        vertical-align: middle;\n",
       "    }\n",
       "\n",
       "    .dataframe tbody tr th {\n",
       "        vertical-align: top;\n",
       "    }\n",
       "\n",
       "    .dataframe thead th {\n",
       "        text-align: right;\n",
       "    }\n",
       "</style>\n",
       "<table border=\"1\" class=\"dataframe\">\n",
       "  <thead>\n",
       "    <tr style=\"text-align: right;\">\n",
       "      <th></th>\n",
       "      <th>name</th>\n",
       "      <th>online_order</th>\n",
       "      <th>book_table</th>\n",
       "      <th>rate</th>\n",
       "      <th>votes</th>\n",
       "      <th>approx_cost(for two people)</th>\n",
       "      <th>listed_in(type)</th>\n",
       "    </tr>\n",
       "  </thead>\n",
       "  <tbody>\n",
       "    <tr>\n",
       "      <th>0</th>\n",
       "      <td>Jalsa</td>\n",
       "      <td>Yes</td>\n",
       "      <td>Yes</td>\n",
       "      <td>4.1</td>\n",
       "      <td>775</td>\n",
       "      <td>800</td>\n",
       "      <td>Buffet</td>\n",
       "    </tr>\n",
       "    <tr>\n",
       "      <th>1</th>\n",
       "      <td>Spice Elephant</td>\n",
       "      <td>Yes</td>\n",
       "      <td>No</td>\n",
       "      <td>4.1</td>\n",
       "      <td>787</td>\n",
       "      <td>800</td>\n",
       "      <td>Buffet</td>\n",
       "    </tr>\n",
       "    <tr>\n",
       "      <th>2</th>\n",
       "      <td>San Churro Cafe</td>\n",
       "      <td>Yes</td>\n",
       "      <td>No</td>\n",
       "      <td>3.8</td>\n",
       "      <td>918</td>\n",
       "      <td>800</td>\n",
       "      <td>Buffet</td>\n",
       "    </tr>\n",
       "    <tr>\n",
       "      <th>3</th>\n",
       "      <td>Addhuri Udupi Bhojana</td>\n",
       "      <td>No</td>\n",
       "      <td>No</td>\n",
       "      <td>3.7</td>\n",
       "      <td>88</td>\n",
       "      <td>300</td>\n",
       "      <td>Buffet</td>\n",
       "    </tr>\n",
       "    <tr>\n",
       "      <th>4</th>\n",
       "      <td>Grand Village</td>\n",
       "      <td>No</td>\n",
       "      <td>No</td>\n",
       "      <td>3.8</td>\n",
       "      <td>166</td>\n",
       "      <td>600</td>\n",
       "      <td>Buffet</td>\n",
       "    </tr>\n",
       "    <tr>\n",
       "      <th>...</th>\n",
       "      <td>...</td>\n",
       "      <td>...</td>\n",
       "      <td>...</td>\n",
       "      <td>...</td>\n",
       "      <td>...</td>\n",
       "      <td>...</td>\n",
       "      <td>...</td>\n",
       "    </tr>\n",
       "    <tr>\n",
       "      <th>143</th>\n",
       "      <td>Melting Melodies</td>\n",
       "      <td>No</td>\n",
       "      <td>No</td>\n",
       "      <td>3.3</td>\n",
       "      <td>0</td>\n",
       "      <td>100</td>\n",
       "      <td>Dining</td>\n",
       "    </tr>\n",
       "    <tr>\n",
       "      <th>144</th>\n",
       "      <td>New Indraprasta</td>\n",
       "      <td>No</td>\n",
       "      <td>No</td>\n",
       "      <td>3.3</td>\n",
       "      <td>0</td>\n",
       "      <td>150</td>\n",
       "      <td>Dining</td>\n",
       "    </tr>\n",
       "    <tr>\n",
       "      <th>145</th>\n",
       "      <td>Anna Kuteera</td>\n",
       "      <td>Yes</td>\n",
       "      <td>No</td>\n",
       "      <td>4.0</td>\n",
       "      <td>771</td>\n",
       "      <td>450</td>\n",
       "      <td>Dining</td>\n",
       "    </tr>\n",
       "    <tr>\n",
       "      <th>146</th>\n",
       "      <td>Darbar</td>\n",
       "      <td>No</td>\n",
       "      <td>No</td>\n",
       "      <td>3.0</td>\n",
       "      <td>98</td>\n",
       "      <td>800</td>\n",
       "      <td>Dining</td>\n",
       "    </tr>\n",
       "    <tr>\n",
       "      <th>147</th>\n",
       "      <td>Vijayalakshmi</td>\n",
       "      <td>Yes</td>\n",
       "      <td>No</td>\n",
       "      <td>3.9</td>\n",
       "      <td>47</td>\n",
       "      <td>200</td>\n",
       "      <td>Dining</td>\n",
       "    </tr>\n",
       "  </tbody>\n",
       "</table>\n",
       "<p>148 rows × 7 columns</p>\n",
       "</div>"
      ],
      "text/plain": [
       "                      name online_order book_table  rate  votes  \\\n",
       "0                    Jalsa          Yes        Yes   4.1    775   \n",
       "1           Spice Elephant          Yes         No   4.1    787   \n",
       "2          San Churro Cafe          Yes         No   3.8    918   \n",
       "3    Addhuri Udupi Bhojana           No         No   3.7     88   \n",
       "4            Grand Village           No         No   3.8    166   \n",
       "..                     ...          ...        ...   ...    ...   \n",
       "143       Melting Melodies           No         No   3.3      0   \n",
       "144        New Indraprasta           No         No   3.3      0   \n",
       "145           Anna Kuteera          Yes         No   4.0    771   \n",
       "146                 Darbar           No         No   3.0     98   \n",
       "147          Vijayalakshmi          Yes         No   3.9     47   \n",
       "\n",
       "     approx_cost(for two people) listed_in(type)  \n",
       "0                            800          Buffet  \n",
       "1                            800          Buffet  \n",
       "2                            800          Buffet  \n",
       "3                            300          Buffet  \n",
       "4                            600          Buffet  \n",
       "..                           ...             ...  \n",
       "143                          100          Dining  \n",
       "144                          150          Dining  \n",
       "145                          450          Dining  \n",
       "146                          800          Dining  \n",
       "147                          200          Dining  \n",
       "\n",
       "[148 rows x 7 columns]"
      ]
     },
     "execution_count": 274,
     "metadata": {},
     "output_type": "execute_result"
    }
   ],
   "source": [
    "df"
   ]
  },
  {
   "cell_type": "code",
   "execution_count": 275,
   "id": "3e75eaf0",
   "metadata": {},
   "outputs": [
    {
     "name": "stdout",
     "output_type": "stream",
     "text": [
      "<class 'pandas.core.frame.DataFrame'>\n",
      "RangeIndex: 148 entries, 0 to 147\n",
      "Data columns (total 7 columns):\n",
      " #   Column                       Non-Null Count  Dtype  \n",
      "---  ------                       --------------  -----  \n",
      " 0   name                         148 non-null    object \n",
      " 1   online_order                 148 non-null    object \n",
      " 2   book_table                   148 non-null    object \n",
      " 3   rate                         148 non-null    float64\n",
      " 4   votes                        148 non-null    int64  \n",
      " 5   approx_cost(for two people)  148 non-null    int64  \n",
      " 6   listed_in(type)              148 non-null    object \n",
      "dtypes: float64(1), int64(2), object(4)\n",
      "memory usage: 8.2+ KB\n"
     ]
    }
   ],
   "source": [
    "df.info()"
   ]
  },
  {
   "cell_type": "code",
   "execution_count": 276,
   "id": "3f8beb19",
   "metadata": {},
   "outputs": [
    {
     "data": {
      "application/vnd.microsoft.datawrangler.viewer.v0+json": {
       "columns": [
        {
         "name": "index",
         "rawType": "object",
         "type": "string"
        },
        {
         "name": "rate",
         "rawType": "float64",
         "type": "float"
        },
        {
         "name": "votes",
         "rawType": "float64",
         "type": "float"
        },
        {
         "name": "approx_cost(for two people)",
         "rawType": "float64",
         "type": "float"
        }
       ],
       "ref": "472acc26-1798-4e91-a049-c745e0d92a52",
       "rows": [
        [
         "count",
         "148.0",
         "148.0",
         "148.0"
        ],
        [
         "mean",
         "3.6331081081081082",
         "264.81081081081084",
         "418.2432432432432"
        ],
        [
         "std",
         "0.40227051403803343",
         "653.6769506420574",
         "223.0850977505881"
        ],
        [
         "min",
         "2.6",
         "0.0",
         "100.0"
        ],
        [
         "25%",
         "3.3",
         "6.75",
         "200.0"
        ],
        [
         "50%",
         "3.7",
         "43.5",
         "400.0"
        ],
        [
         "75%",
         "3.9",
         "221.75",
         "600.0"
        ],
        [
         "max",
         "4.6",
         "4884.0",
         "950.0"
        ]
       ],
       "shape": {
        "columns": 3,
        "rows": 8
       }
      },
      "text/html": [
       "<div>\n",
       "<style scoped>\n",
       "    .dataframe tbody tr th:only-of-type {\n",
       "        vertical-align: middle;\n",
       "    }\n",
       "\n",
       "    .dataframe tbody tr th {\n",
       "        vertical-align: top;\n",
       "    }\n",
       "\n",
       "    .dataframe thead th {\n",
       "        text-align: right;\n",
       "    }\n",
       "</style>\n",
       "<table border=\"1\" class=\"dataframe\">\n",
       "  <thead>\n",
       "    <tr style=\"text-align: right;\">\n",
       "      <th></th>\n",
       "      <th>rate</th>\n",
       "      <th>votes</th>\n",
       "      <th>approx_cost(for two people)</th>\n",
       "    </tr>\n",
       "  </thead>\n",
       "  <tbody>\n",
       "    <tr>\n",
       "      <th>count</th>\n",
       "      <td>148.000000</td>\n",
       "      <td>148.000000</td>\n",
       "      <td>148.000000</td>\n",
       "    </tr>\n",
       "    <tr>\n",
       "      <th>mean</th>\n",
       "      <td>3.633108</td>\n",
       "      <td>264.810811</td>\n",
       "      <td>418.243243</td>\n",
       "    </tr>\n",
       "    <tr>\n",
       "      <th>std</th>\n",
       "      <td>0.402271</td>\n",
       "      <td>653.676951</td>\n",
       "      <td>223.085098</td>\n",
       "    </tr>\n",
       "    <tr>\n",
       "      <th>min</th>\n",
       "      <td>2.600000</td>\n",
       "      <td>0.000000</td>\n",
       "      <td>100.000000</td>\n",
       "    </tr>\n",
       "    <tr>\n",
       "      <th>25%</th>\n",
       "      <td>3.300000</td>\n",
       "      <td>6.750000</td>\n",
       "      <td>200.000000</td>\n",
       "    </tr>\n",
       "    <tr>\n",
       "      <th>50%</th>\n",
       "      <td>3.700000</td>\n",
       "      <td>43.500000</td>\n",
       "      <td>400.000000</td>\n",
       "    </tr>\n",
       "    <tr>\n",
       "      <th>75%</th>\n",
       "      <td>3.900000</td>\n",
       "      <td>221.750000</td>\n",
       "      <td>600.000000</td>\n",
       "    </tr>\n",
       "    <tr>\n",
       "      <th>max</th>\n",
       "      <td>4.600000</td>\n",
       "      <td>4884.000000</td>\n",
       "      <td>950.000000</td>\n",
       "    </tr>\n",
       "  </tbody>\n",
       "</table>\n",
       "</div>"
      ],
      "text/plain": [
       "             rate        votes  approx_cost(for two people)\n",
       "count  148.000000   148.000000                   148.000000\n",
       "mean     3.633108   264.810811                   418.243243\n",
       "std      0.402271   653.676951                   223.085098\n",
       "min      2.600000     0.000000                   100.000000\n",
       "25%      3.300000     6.750000                   200.000000\n",
       "50%      3.700000    43.500000                   400.000000\n",
       "75%      3.900000   221.750000                   600.000000\n",
       "max      4.600000  4884.000000                   950.000000"
      ]
     },
     "execution_count": 276,
     "metadata": {},
     "output_type": "execute_result"
    }
   ],
   "source": [
    "df.describe()  #to get the statistical summary of the dataset"
   ]
  },
  {
   "cell_type": "markdown",
   "id": "b99f3257",
   "metadata": {},
   "source": [
    "### Questions"
   ]
  },
  {
   "cell_type": "markdown",
   "id": "482c994a",
   "metadata": {},
   "source": [
    "Ques.1 What type of restaurant do the majority of customers order from?"
   ]
  },
  {
   "cell_type": "code",
   "execution_count": 277,
   "id": "5704b6a5",
   "metadata": {},
   "outputs": [
    {
     "name": "stdout",
     "output_type": "stream",
     "text": [
      "listed_in(type)\n",
      "Dining    110\n",
      "Cafes      23\n",
      "other       8\n",
      "Buffet      7\n",
      "Name: count, dtype: int64\n"
     ]
    }
   ],
   "source": [
    "Type_of_Restaurant  = df['listed_in(type)'].value_counts()  #to get the count of unique values in 'listed_in' column\n",
    "print(Type_of_Restaurant)"
   ]
  },
  {
   "cell_type": "code",
   "execution_count": 324,
   "id": "d7fe6ce1",
   "metadata": {},
   "outputs": [
    {
     "data": {
      "image/png": "[encoded data removed]",
      "text/plain": [
       "<Figure size 640x480 with 1 Axes>"
      ]
     },
     "metadata": {},
     "output_type": "display_data"
    },
    {
     "data": {
      "text/plain": [
       "<Figure size 500x1200 with 0 Axes>"
      ]
     },
     "metadata": {},
     "output_type": "display_data"
    }
   ],
   "source": [
    "sns.countplot(x = df['listed_in(type)'], palette='viridis',hue = df['listed_in(type)'])\n",
    "plt.xlabel('Type of Restaurant')\n",
    "plt.figure(figsize = (5, 12))\n",
    "plt.show()"
   ]
  },
  {
   "cell_type": "markdown",
   "id": "f713d6e1",
   "metadata": {},
   "source": [
    "Ques.2 How many votes has each type of restaurant received from customers?"
   ]
  },
  {
   "cell_type": "code",
   "execution_count": 279,
   "id": "3da7a89b",
   "metadata": {},
   "outputs": [
    {
     "data": {
      "application/vnd.microsoft.datawrangler.viewer.v0+json": {
       "columns": [
        {
         "name": "index",
         "rawType": "int64",
         "type": "integer"
        },
        {
         "name": "listed_in(type)",
         "rawType": "object",
         "type": "string"
        },
        {
         "name": "votes",
         "rawType": "int64",
         "type": "integer"
        }
       ],
       "ref": "b8ba7b49-6d20-4b59-b49e-fe4baafcb222",
       "rows": [
        [
         "0",
         "Buffet",
         "3028"
        ],
        [
         "1",
         "Cafes",
         "6434"
        ],
        [
         "2",
         "Dining",
         "20363"
        ],
        [
         "3",
         "other",
         "9367"
        ]
       ],
       "shape": {
        "columns": 2,
        "rows": 4
       }
      },
      "text/html": [
       "<div>\n",
       "<style scoped>\n",
       "    .dataframe tbody tr th:only-of-type {\n",
       "        vertical-align: middle;\n",
       "    }\n",
       "\n",
       "    .dataframe tbody tr th {\n",
       "        vertical-align: top;\n",
       "    }\n",
       "\n",
       "    .dataframe thead th {\n",
       "        text-align: right;\n",
       "    }\n",
       "</style>\n",
       "<table border=\"1\" class=\"dataframe\">\n",
       "  <thead>\n",
       "    <tr style=\"text-align: right;\">\n",
       "      <th></th>\n",
       "      <th>listed_in(type)</th>\n",
       "      <th>votes</th>\n",
       "    </tr>\n",
       "  </thead>\n",
       "  <tbody>\n",
       "    <tr>\n",
       "      <th>0</th>\n",
       "      <td>Buffet</td>\n",
       "      <td>3028</td>\n",
       "    </tr>\n",
       "    <tr>\n",
       "      <th>1</th>\n",
       "      <td>Cafes</td>\n",
       "      <td>6434</td>\n",
       "    </tr>\n",
       "    <tr>\n",
       "      <th>2</th>\n",
       "      <td>Dining</td>\n",
       "      <td>20363</td>\n",
       "    </tr>\n",
       "    <tr>\n",
       "      <th>3</th>\n",
       "      <td>other</td>\n",
       "      <td>9367</td>\n",
       "    </tr>\n",
       "  </tbody>\n",
       "</table>\n",
       "</div>"
      ],
      "text/plain": [
       "  listed_in(type)  votes\n",
       "0          Buffet   3028\n",
       "1           Cafes   6434\n",
       "2          Dining  20363\n",
       "3           other   9367"
      ]
     },
     "execution_count": 279,
     "metadata": {},
     "output_type": "execute_result"
    }
   ],
   "source": [
    "Votes_by_Type_of_Restaurant = df.groupby('listed_in(type)')['votes'].sum().reset_index()\n",
    "Votes_by_Type_of_Restaurant"
   ]
  },
  {
   "cell_type": "code",
   "execution_count": null,
   "id": "8185462d",
   "metadata": {},
   "outputs": [
    {
     "data": {
      "image/png": "[encoded data removed]",
      "text/plain": [
       "<Figure size 640x480 with 1 Axes>"
      ]
     },
     "metadata": {},
     "output_type": "display_data"
    }
   ],
   "source": [
    "sns.lineplot(x='listed_in(type)', y='votes', data= Votes_by_Type_of_Restaurant, marker='o',color = 'green')\n",
    "plt.title('Votes by Type of Restaurant')\n",
    "plt.show()"
   ]
  },
  {
   "cell_type": "markdown",
   "id": "3b977a63",
   "metadata": {},
   "source": [
    "Ques.3 What are the ratings that the majority of restaurants have received?"
   ]
  },
  {
   "cell_type": "code",
   "execution_count": 281,
   "id": "ca65ccd8",
   "metadata": {},
   "outputs": [
    {
     "data": {
      "application/vnd.microsoft.datawrangler.viewer.v0+json": {
       "columns": [
        {
         "name": "rate",
         "rawType": "float64",
         "type": "float"
        },
        {
         "name": "count",
         "rawType": "int64",
         "type": "integer"
        }
       ],
       "ref": "60a380ab-180f-45d9-87bf-cd26a7d57e0d",
       "rows": [
        [
         "3.8",
         "20"
        ],
        [
         "3.7",
         "15"
        ],
        [
         "3.3",
         "14"
        ],
        [
         "3.4",
         "12"
        ],
        [
         "4.1",
         "11"
        ],
        [
         "3.6",
         "11"
        ],
        [
         "4.0",
         "10"
        ],
        [
         "3.9",
         "10"
        ],
        [
         "4.2",
         "8"
        ],
        [
         "3.2",
         "7"
        ],
        [
         "3.1",
         "7"
        ],
        [
         "2.9",
         "7"
        ],
        [
         "3.5",
         "6"
        ],
        [
         "3.0",
         "2"
        ],
        [
         "4.6",
         "2"
        ],
        [
         "2.8",
         "2"
        ],
        [
         "4.4",
         "2"
        ],
        [
         "4.3",
         "1"
        ],
        [
         "2.6",
         "1"
        ]
       ],
       "shape": {
        "columns": 1,
        "rows": 19
       }
      },
      "text/plain": [
       "rate\n",
       "3.8    20\n",
       "3.7    15\n",
       "3.3    14\n",
       "3.4    12\n",
       "4.1    11\n",
       "3.6    11\n",
       "4.0    10\n",
       "3.9    10\n",
       "4.2     8\n",
       "3.2     7\n",
       "3.1     7\n",
       "2.9     7\n",
       "3.5     6\n",
       "3.0     2\n",
       "4.6     2\n",
       "2.8     2\n",
       "4.4     2\n",
       "4.3     1\n",
       "2.6     1\n",
       "Name: count, dtype: int64"
      ]
     },
     "execution_count": 281,
     "metadata": {},
     "output_type": "execute_result"
    }
   ],
   "source": [
    "Distribution_of_Ratings = df['rate'].value_counts().sort_values(ascending=False)\n",
    "Distribution_of_Ratings"
   ]
  },
  {
   "cell_type": "code",
   "execution_count": null,
   "id": "203672d7",
   "metadata": {},
   "outputs": [
    {
     "data": {
      "image/png": "[encoded data removed]",
      "text/plain": [
       "<Figure size 640x480 with 1 Axes>"
      ]
     },
     "metadata": {},
     "output_type": "display_data"
    }
   ],
   "source": [
    "plt.hist(df['rate'], bins = 60,color = 'green')\n",
    "plt.title('Distribution of Ratings')\n",
    "plt.xlabel('Ratings',size = 12)\n",
    "plt.ylabel('Frequency count',size=12)\n",
    "plt.show()"
   ]
  },
  {
   "cell_type": "markdown",
   "id": "cfa6cf99",
   "metadata": {},
   "source": [
    "Ques.4 Zomato has observed that most couples order most of their food online. What is their average spending on each order?"
   ]
  },
  {
   "cell_type": "code",
   "execution_count": 283,
   "id": "e3b37cf6",
   "metadata": {},
   "outputs": [
    {
     "name": "stdout",
     "output_type": "stream",
     "text": [
      "510.3448275862069\n"
     ]
    }
   ],
   "source": [
    "average_spending = df[df['online_order'] == 'Yes']['approx_cost(for two people)'].mean()\n",
    "print(average_spending)"
   ]
  },
  {
   "cell_type": "code",
   "execution_count": null,
   "id": "a9478fcd",
   "metadata": {},
   "outputs": [
    {
     "data": {
      "image/png": "[encoded data removed]",
      "text/plain": [
       "<Figure size 640x480 with 1 Axes>"
      ]
     },
     "metadata": {},
     "output_type": "display_data"
    }
   ],
   "source": [
    "couple_data = df[df['online_order'] == 'Yes']['approx_cost(for two people)']\n",
    "sns.countplot(x=couple_data)\n"
   ]
  },
  {
   "cell_type": "markdown",
   "id": "b75583e9",
   "metadata": {},
   "source": [
    "Ques.5 Which mode (online or offline) has received the maximum rating?"
   ]
  },
  {
   "cell_type": "code",
   "execution_count": 310,
   "id": "15faf09b",
   "metadata": {},
   "outputs": [
    {
     "name": "stdout",
     "output_type": "stream",
     "text": [
      "  online_order  rate\n",
      "0           No   4.3\n",
      "1          Yes   4.6\n"
     ]
    }
   ],
   "source": [
    "order_rating = df.groupby('online_order')['rate'].max().reset_index()\n",
    "print(order_rating)"
   ]
  },
  {
   "cell_type": "code",
   "execution_count": null,
   "id": "c7368149",
   "metadata": {},
   "outputs": [
    {
     "data": {
      "image/png": "[encoded data removed]",
      "text/plain": [
       "<Figure size 600x400 with 1 Axes>"
      ]
     },
     "metadata": {},
     "output_type": "display_data"
    }
   ],
   "source": [
    "plt.figure(figsize=(6, 4))\n",
    "sns.boxplot(x = 'online_order', y = 'rate', data = df, palette='viridis',hue = df['online_order'])\n",
    "plt.savefig('boxplot_online_order.png', dpi=300)\n",
    "plt.show()"
   ]
  },
  {
   "cell_type": "markdown",
   "id": "7cc96235",
   "metadata": {},
   "source": [
    "Ques.6 Which type of restaurant received more offline orders, so that Zomato can provide those\n",
    "customers with some good offers?"
   ]
  },
  {
   "cell_type": "code",
   "execution_count": 313,
   "id": "cb2b74be",
   "metadata": {},
   "outputs": [
    {
     "name": "stdout",
     "output_type": "stream",
     "text": [
      "listed_in(type)\n",
      "Dining    77\n",
      "Cafes      8\n",
      "Buffet     3\n",
      "other      2\n",
      "Name: count, dtype: int64\n"
     ]
    }
   ],
   "source": [
    "\n",
    "offline_orders = df[df['online_order'] == 'No']['listed_in(type)'].value_counts()\n",
    "\n",
    "print(offline_orders)\n"
   ]
  },
  {
   "cell_type": "code",
   "execution_count": null,
   "id": "b9b7105a",
   "metadata": {},
   "outputs": [
    {
     "data": {
      "image/png": "[encoded data removed]",
      "text/plain": [
       "<Figure size 640x480 with 2 Axes>"
      ]
     },
     "metadata": {},
     "output_type": "display_data"
    }
   ],
   "source": [
    "pivot_table = df.pivot_table(index='listed_in(type)', columns='online_order',aggfunc='size', fill_value=0)\n",
    "sns.heatmap(pivot_table, annot=True, cmap='Blues', fmt='d')\n",
    "plt.title('Heatmap')\n",
    "plt.xlabel('Online Order')\n",
    "plt.ylabel('Type of Restaurant')\n",
    "plt.show()"
   ]
  },
  {
   "cell_type": "code",
   "execution_count": null,
   "id": "5e8509f0",
   "metadata": {},
   "outputs": [],
   "source": []
  }
 ],
 "metadata": {
  "kernelspec": {
   "display_name": "Python 3",
   "language": "python",
   "name": "python3"
  },
  "language_info": {
   "codemirror_mode": {
    "name": "ipython",
    "version": 3
   },
   "file_extension": ".py",
   "mimetype": "text/x-python",
   "name": "python",
   "nbconvert_exporter": "python",
   "pygments_lexer": "ipython3",
   "version": "3.12.5"
  }
 },
 "nbformat": 4,
 "nbformat_minor": 5
}
